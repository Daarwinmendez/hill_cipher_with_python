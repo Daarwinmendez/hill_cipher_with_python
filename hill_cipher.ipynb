{
  "nbformat": 4,
  "nbformat_minor": 0,
  "metadata": {
    "colab": {
      "provenance": [],
      "authorship_tag": "ABX9TyNiqSnTFqe2q1HAgtnG6o+x",
      "include_colab_link": true
    },
    "kernelspec": {
      "name": "python3",
      "display_name": "Python 3"
    },
    "language_info": {
      "name": "python"
    }
  },
  "cells": [
    {
      "cell_type": "markdown",
      "metadata": {
        "id": "view-in-github",
        "colab_type": "text"
      },
      "source": [
        "<a href=\"https://colab.research.google.com/github/Daarwinmendez/hill_cipher_with_python/blob/main/hill_cipher.ipynb\" target=\"_parent\"><img src=\"https://colab.research.google.com/assets/colab-badge.svg\" alt=\"Open In Colab\"/></a>"
      ]
    },
    {
      "cell_type": "code",
      "source": [
        "import sympy as sp\n",
        "import numpy as np\n",
        "import math\n"
      ],
      "metadata": {
        "id": "Gb3EgG92qg9N"
      },
      "execution_count": 1,
      "outputs": []
    },
    {
      "cell_type": "code",
      "source": [
        "# Definamos nuestro alfabeto.\n",
        "caracteres = \"ABCDEFGHIJKLMNÑOPQRSTUVWXYZabcdefghijklmnopqrstuvwxyzáéíóú ¿?.,;:!¡\"\n",
        "modulo = len(caracteres)\n",
        "indices = list(range(modulo))\n",
        "indices_dict = dict(zip(caracteres, indices)) # Creamos un diccionario que almacene el indice de cada elemento\n",
        "                                                # y tenga las letras como key."
      ],
      "metadata": {
        "id": "1gsYG9a66u3g"
      },
      "execution_count": 2,
      "outputs": []
    },
    {
      "cell_type": "code",
      "source": [
        "modulo # Quiere decir que 60 será nuestro modulo."
      ],
      "metadata": {
        "colab": {
          "base_uri": "https://localhost:8080/"
        },
        "id": "74EQQ2XI7dwo",
        "outputId": "1b7d7dba-728f-4226-b6d9-0a2859a57a87"
      },
      "execution_count": 3,
      "outputs": [
        {
          "output_type": "execute_result",
          "data": {
            "text/plain": [
              "67"
            ]
          },
          "metadata": {},
          "execution_count": 3
        }
      ]
    },
    {
      "cell_type": "markdown",
      "source": [
        "Para hacer un cifrado, hay cuatro elementos clave que se deben tener en consideración:\n",
        "\n",
        "1. Mensaje\n",
        "2. Código\n",
        "3. Emisor\n",
        "4. Receptor\n",
        "\n",
        "Trabajemos con el cifrado de Hill,  (Hill Cipher)!"
      ],
      "metadata": {
        "id": "2vI1YaI7qiyv"
      }
    },
    {
      "cell_type": "code",
      "source": [],
      "metadata": {
        "id": "xjV5hAjv57aY"
      },
      "execution_count": 3,
      "outputs": []
    },
    {
      "cell_type": "markdown",
      "source": [
        "### Mensaje\n",
        "\n",
        "\"DISFRUTAR DE UN BUEN LIBRO O UNA PELICULA PUEDE SER MUY RELAJANTE\"\n",
        "\n",
        "\n",
        "O tambien puede ser:\n",
        "\n",
        "\"¡Hola! ¿Cómo estás? Espero que todo esté bien. ¡Disfruta tu día y sigue adelante con ánimo!\""
      ],
      "metadata": {
        "id": "GvnyhrCS59g6"
      }
    },
    {
      "cell_type": "markdown",
      "source": [
        "### Codigo\n",
        "\n",
        "Hagamos seguro que nuestro módulo, sea coprimo con el determinante de la matriz."
      ],
      "metadata": {
        "id": "8bwL3bkC6Qsr"
      }
    },
    {
      "cell_type": "code",
      "execution_count": 4,
      "metadata": {
        "id": "_JAv_z9khkzX"
      },
      "outputs": [],
      "source": [
        "def generate_invertible_matrix(shape, modulo, seed):\n",
        "  \"\"\"Genera una matriz invertible de forma aleatoria\"\"\"\n",
        "\n",
        "  # Verificamos que la matriz sea cuadrada\n",
        "  if shape[0] != shape[-1]:\n",
        "    raise ValueError(\"La matriz debe ser cuadrada\") # Verificamos que la matriz sea cuadrada.\n",
        "  elif len(shape) != 2:\n",
        "    raise ValueError(\"La matriz debe ser de dos dimensiones\") # Verificamos que la matriz sea de dos dimensiones.\n",
        "  elif shape[0] < 2:\n",
        "    raise ValueError(\"La matriz debe tener al menos dos dimensiones\") # Verificamos que la matriz tenga al menos dos dimensiones.\n",
        "  elif shape[0] == 0 or shape[-1] == 0:\n",
        "    raise ValueError(\"La matriz no debe tener una forma/tamaño de 0\") # Verificamoos que la forma no tenga ceros como argumentos.\n",
        "  else:\n",
        "    # Generamos una matriz aleatoria de la forma especificada\n",
        "    # y verificamos si es invertible\n",
        "\n",
        "    np.random.seed(seed);\n",
        "    while True:\n",
        "      matriz = (np.random.randint(10, size=shape))\n",
        "      det = int(np.linalg.det(matriz))\n",
        "      mcd = int(math.gcd(det, modulo))\n",
        "      if det !=0 and mcd == 1 and all(matr.is_integer() for matr in np.linalg.inv(matriz).flatten()) :\n",
        "        return matriz\n"
      ]
    },
    {
      "cell_type": "code",
      "source": [
        "# Obtenemos una matriz invertible con la funcion que creamos\n",
        "matriz_sp = generate_invertible_matrix((4,4),modulo,43)\n",
        "matriz_sp\n",
        "#matriz_np = np.array(matriz_sp) # en caso de que halla problema lidiando con los tipos de datos de ambos."
      ],
      "metadata": {
        "id": "kcxQyFFJhl6q",
        "colab": {
          "base_uri": "https://localhost:8080/"
        },
        "outputId": "0316a3da-af6d-493e-fd8b-c6793162b572"
      },
      "execution_count": 5,
      "outputs": [
        {
          "output_type": "execute_result",
          "data": {
            "text/plain": [
              "array([[5, 2, 0, 1],\n",
              "       [2, 4, 7, 0],\n",
              "       [5, 3, 3, 1],\n",
              "       [1, 3, 6, 0]])"
            ]
          },
          "metadata": {},
          "execution_count": 5
        }
      ]
    },
    {
      "cell_type": "code",
      "source": [
        "matriz_sp"
      ],
      "metadata": {
        "colab": {
          "base_uri": "https://localhost:8080/"
        },
        "id": "o6FggXz3rvvP",
        "outputId": "d3e2abb3-e0b0-4fa1-c18e-ac88402c6c86"
      },
      "execution_count": 6,
      "outputs": [
        {
          "output_type": "execute_result",
          "data": {
            "text/plain": [
              "array([[5, 2, 0, 1],\n",
              "       [2, 4, 7, 0],\n",
              "       [5, 3, 3, 1],\n",
              "       [1, 3, 6, 0]])"
            ]
          },
          "metadata": {},
          "execution_count": 6
        }
      ]
    },
    {
      "cell_type": "code",
      "source": [
        "matriz_sp= sp.Matrix(matriz_sp)\n",
        "matriz_np = np.array(matriz_sp)\n",
        "\n",
        "matriz_sp.inv()\n"
      ],
      "metadata": {
        "colab": {
          "base_uri": "https://localhost:8080/",
          "height": 98
        },
        "id": "u7UfKs5siVWW",
        "outputId": "549d8096-29d8-4161-8dae-4fc4708ddb0b"
      },
      "execution_count": 7,
      "outputs": [
        {
          "output_type": "execute_result",
          "data": {
            "text/plain": [
              "Matrix([\n",
              "[-3,  3,  3, -5],\n",
              "[ 5, -3, -5,  6],\n",
              "[-2,  1,  2, -2],\n",
              "[ 6, -9, -5, 13]])"
            ],
            "text/latex": "$\\displaystyle \\left[\\begin{matrix}-3 & 3 & 3 & -5\\\\5 & -3 & -5 & 6\\\\-2 & 1 & 2 & -2\\\\6 & -9 & -5 & 13\\end{matrix}\\right]$"
          },
          "metadata": {},
          "execution_count": 7
        }
      ]
    },
    {
      "cell_type": "code",
      "source": [
        "print(\"Determinante: \", matriz_sp.det())"
      ],
      "metadata": {
        "colab": {
          "base_uri": "https://localhost:8080/"
        },
        "id": "0pzj2jWHuSz6",
        "outputId": "8019348f-c80e-44ba-9b5d-c04498745c0a"
      },
      "execution_count": 8,
      "outputs": [
        {
          "output_type": "stream",
          "name": "stdout",
          "text": [
            "Determinante:  1\n"
          ]
        }
      ]
    },
    {
      "cell_type": "code",
      "source": [
        "# Asumamos que el emisor quiera enviar un mensaje.\n",
        "\n",
        "mensaje = \"¡Hola! ¿Cómo estás? Espero que todo esté bien. ¡Disfruta tu día y sigue adelante con ánimo!\""
      ],
      "metadata": {
        "id": "5ZyxP7xbxzts"
      },
      "execution_count": 9,
      "outputs": []
    },
    {
      "cell_type": "markdown",
      "source": [
        "\n",
        "Creemos la matriz con el mensaje"
      ],
      "metadata": {
        "id": "EXQIL7kC9w9e"
      }
    },
    {
      "cell_type": "code",
      "source": [
        "matriz_mensaje = [];\n",
        "\n",
        "for character in mensaje:\n",
        "  for ind in indices_dict:\n",
        "    if character == ind:\n",
        "      matriz_mensaje.append(indices_dict[ind])\n"
      ],
      "metadata": {
        "id": "ewIBV2at-yCI"
      },
      "execution_count": 10,
      "outputs": []
    },
    {
      "cell_type": "code",
      "source": [],
      "metadata": {
        "id": "aP-ixbY7J384"
      },
      "execution_count": 10,
      "outputs": []
    },
    {
      "cell_type": "code",
      "source": [
        "# Posición del elemento \" \", o espacio.\n",
        "espacio_pos = indices_dict[\" \"]\n",
        "\n",
        "if len(matriz_mensaje) % matriz_sp.shape[0] != 0:\n",
        "  # Si el modulo 4 de la longitud del mensaje no es exactamente 0, pues añade un caracter \"\", las veces que falte.\n",
        "  for i in range(matriz_sp.shape[0] - (len(matriz_mensaje) % matriz_sp.shape[0])):\n",
        "    matriz_mensaje.append(int(espacio_pos))\n",
        "else:\n",
        "  pass"
      ],
      "metadata": {
        "id": "otSOyupnCfSP"
      },
      "execution_count": 11,
      "outputs": []
    },
    {
      "cell_type": "code",
      "source": [],
      "metadata": {
        "id": "mKR6oWZF-5tA"
      },
      "execution_count": 11,
      "outputs": []
    },
    {
      "cell_type": "code",
      "source": [
        "# Aqui trasponemos la matriz mensaje, para dividirlas en filas de 23 columnas, o M columnas,  y la cantidad de filas que tiene nuestra matriz llave.\n",
        "mensaje_vectorizado = np.array(np.array(matriz_mensaje).T).reshape(matriz_sp.shape[0], -1)\n"
      ],
      "metadata": {
        "id": "IX3Th8ZtBazK"
      },
      "execution_count": 12,
      "outputs": []
    },
    {
      "cell_type": "code",
      "source": [
        "# Visualizando.\n",
        "\n",
        "mensaje_vectorizado\n",
        "\n",
        "mensaje_vectorizado[0],\n",
        "mensaje_vectorizado[1],\n",
        "mensaje_vectorizado[3]"
      ],
      "metadata": {
        "colab": {
          "base_uri": "https://localhost:8080/"
        },
        "id": "BWj02FjoFrZJ",
        "outputId": "083c79e3-b9df-490d-e05e-9e861fbe46bc"
      },
      "execution_count": 13,
      "outputs": [
        {
          "output_type": "execute_result",
          "data": {
            "text/plain": [
              "array([47, 31, 58, 27, 30, 31, 38, 27, 40, 46, 31, 58, 29, 41, 40, 58, 53,\n",
              "       40, 35, 39, 41, 65, 58])"
            ]
          },
          "metadata": {},
          "execution_count": 13
        }
      ]
    },
    {
      "cell_type": "code",
      "source": [
        "#Visualicemos el mensaje en numeros antes de encriptar\n",
        "mensaje_vectorizado =  sp.Matrix(mensaje_vectorizado)\n",
        "print(mensaje)\n",
        "mensaje_vectorizado"
      ],
      "metadata": {
        "colab": {
          "base_uri": "https://localhost:8080/",
          "height": 115
        },
        "id": "xNOkAGVOGMzz",
        "outputId": "f11e1344-4691-43a8-8780-a1ad64971d24"
      },
      "execution_count": 14,
      "outputs": [
        {
          "output_type": "stream",
          "name": "stdout",
          "text": [
            "¡Hola! ¿Cómo estás? Espero que todo esté bien. ¡Disfruta tu día y sigue adelante con ánimo!\n"
          ]
        },
        {
          "output_type": "execute_result",
          "data": {
            "text/plain": [
              "Matrix([\n",
              "[66,  7, 41, 38, 27, 65, 58, 59,  2, 56, 39, 41, 58, 31, 45, 46, 53, 45, 60, 58,  4, 45, 42],\n",
              "[31, 44, 41, 58, 43, 47, 31, 58, 46, 41, 30, 41, 58, 31, 45, 46, 54, 58, 28, 35, 31, 40, 61],\n",
              "[58, 66,  3, 35, 45, 32, 44, 47, 46, 27, 58, 46, 47, 58, 30, 55, 27, 58, 51, 58, 45, 35, 33],\n",
              "[47, 31, 58, 27, 30, 31, 38, 27, 40, 46, 31, 58, 29, 41, 40, 58, 53, 40, 35, 39, 41, 65, 58]])"
            ],
            "text/latex": "$\\displaystyle \\left[\\begin{array}{ccccccccccccccccccccccc}66 & 7 & 41 & 38 & 27 & 65 & 58 & 59 & 2 & 56 & 39 & 41 & 58 & 31 & 45 & 46 & 53 & 45 & 60 & 58 & 4 & 45 & 42\\\\31 & 44 & 41 & 58 & 43 & 47 & 31 & 58 & 46 & 41 & 30 & 41 & 58 & 31 & 45 & 46 & 54 & 58 & 28 & 35 & 31 & 40 & 61\\\\58 & 66 & 3 & 35 & 45 & 32 & 44 & 47 & 46 & 27 & 58 & 46 & 47 & 58 & 30 & 55 & 27 & 58 & 51 & 58 & 45 & 35 & 33\\\\47 & 31 & 58 & 27 & 30 & 31 & 38 & 27 & 40 & 46 & 31 & 58 & 29 & 41 & 40 & 58 & 53 & 40 & 35 & 39 & 41 & 65 & 58\\end{array}\\right]$"
          },
          "metadata": {},
          "execution_count": 14
        }
      ]
    },
    {
      "cell_type": "markdown",
      "source": [
        "### Encriptemos el mensaje"
      ],
      "metadata": {
        "id": "i87XBDaOI_Sx"
      }
    },
    {
      "cell_type": "code",
      "source": [
        "mensaje_encriptado = np.dot(matriz_sp, mensaje_vectorizado)\n",
        "mensaje_encriptado = sp.Matrix(mensaje_encriptado)"
      ],
      "metadata": {
        "id": "tXybZc08JFLZ"
      },
      "execution_count": 15,
      "outputs": []
    },
    {
      "cell_type": "code",
      "source": [
        "print(\"Mensaje encriptado\")\n",
        "mensaje_encriptado"
      ],
      "metadata": {
        "colab": {
          "base_uri": "https://localhost:8080/",
          "height": 115
        },
        "id": "D8LfNC1qMSs8",
        "outputId": "d1153ef7-9730-47b1-f27a-6082b45e0b92"
      },
      "execution_count": 16,
      "outputs": [
        {
          "output_type": "stream",
          "name": "stdout",
          "text": [
            "Mensaje encriptado\n"
          ]
        },
        {
          "output_type": "execute_result",
          "data": {
            "text/plain": [
              "Matrix([\n",
              "[439, 154, 345, 333, 251, 450, 390, 438, 142, 408, 286, 345, 435, 258, 355, 380, 426, 381, 391, 399, 123, 370, 390],\n",
              "[662, 652, 267, 553, 541, 542, 548, 679, 510, 465, 604, 568, 677, 592, 480, 661, 511, 728, 589, 662, 447, 495, 559],\n",
              "[644, 396, 395, 496, 429, 593, 553, 637, 326, 530, 490, 524, 634, 463, 490, 591, 561, 613, 572, 608, 289, 515, 550],\n",
              "[507, 535, 182, 422, 426, 398, 415, 515, 416, 341, 477, 440, 514, 472, 360, 514, 377, 567, 450, 511, 367, 375, 423]])"
            ],
            "text/latex": "$\\displaystyle \\left[\\begin{array}{ccccccccccccccccccccccc}439 & 154 & 345 & 333 & 251 & 450 & 390 & 438 & 142 & 408 & 286 & 345 & 435 & 258 & 355 & 380 & 426 & 381 & 391 & 399 & 123 & 370 & 390\\\\662 & 652 & 267 & 553 & 541 & 542 & 548 & 679 & 510 & 465 & 604 & 568 & 677 & 592 & 480 & 661 & 511 & 728 & 589 & 662 & 447 & 495 & 559\\\\644 & 396 & 395 & 496 & 429 & 593 & 553 & 637 & 326 & 530 & 490 & 524 & 634 & 463 & 490 & 591 & 561 & 613 & 572 & 608 & 289 & 515 & 550\\\\507 & 535 & 182 & 422 & 426 & 398 & 415 & 515 & 416 & 341 & 477 & 440 & 514 & 472 & 360 & 514 & 377 & 567 & 450 & 511 & 367 & 375 & 423\\end{array}\\right]$"
          },
          "metadata": {},
          "execution_count": 16
        }
      ]
    },
    {
      "cell_type": "markdown",
      "source": [
        "Este sería el mensaje distorcionado"
      ],
      "metadata": {
        "id": "KGGG8iFNN4s1"
      }
    },
    {
      "cell_type": "code",
      "source": [
        "print(f\"Mensaje encriptado con modulo {modulo}\")\n",
        "mensaje_encriptado_mod = mensaje_encriptado % modulo\n",
        "mensaje_encriptado_mod"
      ],
      "metadata": {
        "colab": {
          "base_uri": "https://localhost:8080/",
          "height": 115
        },
        "id": "DPhh8Hj2NGdI",
        "outputId": "a6f9ac57-975c-4d4a-f222-d48ca9ff3f1a"
      },
      "execution_count": 17,
      "outputs": [
        {
          "output_type": "stream",
          "name": "stdout",
          "text": [
            "Mensaje encriptado con modulo 67\n"
          ]
        },
        {
          "output_type": "execute_result",
          "data": {
            "text/plain": [
              "Matrix([\n",
              "[37, 20, 10, 65, 50, 48, 55, 36,  8,  6, 18, 10, 33, 57, 20, 45, 24, 46, 56, 64, 56, 35, 55],\n",
              "[59, 49, 66, 17,  5,  6, 12,  9, 41, 63,  1, 32,  7, 56, 11, 58, 42, 58, 53, 59, 45, 26, 23],\n",
              "[41, 61, 60, 27, 27, 57, 17, 34, 58, 61, 21, 55, 31, 61, 21, 55, 25, 10, 36,  5, 21, 46, 14],\n",
              "[38, 66, 48, 20, 24, 63, 13, 46, 14,  6,  8, 38, 45,  3, 25, 45, 42, 31, 48, 42, 32, 40, 21]])"
            ],
            "text/latex": "$\\displaystyle \\left[\\begin{array}{ccccccccccccccccccccccc}37 & 20 & 10 & 65 & 50 & 48 & 55 & 36 & 8 & 6 & 18 & 10 & 33 & 57 & 20 & 45 & 24 & 46 & 56 & 64 & 56 & 35 & 55\\\\59 & 49 & 66 & 17 & 5 & 6 & 12 & 9 & 41 & 63 & 1 & 32 & 7 & 56 & 11 & 58 & 42 & 58 & 53 & 59 & 45 & 26 & 23\\\\41 & 61 & 60 & 27 & 27 & 57 & 17 & 34 & 58 & 61 & 21 & 55 & 31 & 61 & 21 & 55 & 25 & 10 & 36 & 5 & 21 & 46 & 14\\\\38 & 66 & 48 & 20 & 24 & 63 & 13 & 46 & 14 & 6 & 8 & 38 & 45 & 3 & 25 & 45 & 42 & 31 & 48 & 42 & 32 & 40 & 21\\end{array}\\right]$"
          },
          "metadata": {},
          "execution_count": 17
        }
      ]
    },
    {
      "cell_type": "markdown",
      "source": [
        "Si intentaran interceptar nuestro mensaje esto es lo que obtendrían:"
      ],
      "metadata": {
        "id": "sg5d46XIOPH1"
      }
    },
    {
      "cell_type": "code",
      "source": [
        "def interceptar_cadena(mensaje_encriptado_mod):\n",
        "  mensaje_encriptado_letras = []\n",
        "\n",
        "  for i in mensaje_encriptado_mod:\n",
        "    for key, value in indices_dict.items():\n",
        "      if i == value:\n",
        "        mensaje_encriptado_letras.append(key)\n",
        "\n",
        "\n",
        "  mensaje_encriptado_letras =  np.array(mensaje_encriptado_letras).reshape(matriz_sp.shape[0], -1)\n",
        "  print(mensaje_encriptado_letras);\n",
        "\n",
        "\n",
        "  cadena_cifrada = []\n",
        "  for i in mensaje_encriptado_letras:\n",
        "    for j in i:\n",
        "      cadena_cifrada.append(j)\n",
        "\n",
        "\n",
        "  return \"\".join(cadena_cifrada)\n",
        "\n",
        "cadena_cifrada = interceptar_cadena(mensaje_encriptado_mod);\n"
      ],
      "metadata": {
        "colab": {
          "base_uri": "https://localhost:8080/"
        },
        "id": "8z9pbDZTOVng",
        "outputId": "2d6df11f-d549-4874-b318-283248a734e8"
      },
      "execution_count": 37,
      "outputs": [
        {
          "output_type": "stream",
          "name": "stdout",
          "text": [
            "[['k' 'T' 'K' '!' 'x' 'v' 'í' 'j' 'I' 'G' 'R' 'K' 'g' 'ú' 'T' 's' 'X' 't'\n",
            "  'ó' ':' 'ó' 'i' 'í']\n",
            " ['¿' 'w' '¡' 'Q' 'F' 'G' 'M' 'J' 'o' ';' 'B' 'f' 'H' 'ó' 'L' ' ' 'p' ' '\n",
            "  'á' '¿' 's' 'Z' 'W']\n",
            " ['o' '.' '?' 'a' 'a' 'ú' 'Q' 'h' ' ' '.' 'U' 'í' 'e' '.' 'U' 'í' 'Y' 'K'\n",
            "  'j' 'F' 'U' 't' 'Ñ']\n",
            " ['l' '¡' 'v' 'T' 'X' ';' 'N' 't' 'Ñ' 'G' 'I' 'l' 's' 'D' 'Y' 's' 'p' 'e'\n",
            "  'v' 'p' 'f' 'n' 'U']]\n"
          ]
        }
      ]
    },
    {
      "cell_type": "code",
      "source": [
        "print(cadena_cifrada)"
      ],
      "metadata": {
        "colab": {
          "base_uri": "https://localhost:8080/"
        },
        "id": "wJlvFN9ePOBW",
        "outputId": "82faac42-c211-4f0b-bdfd-ecc0234800e5"
      },
      "execution_count": 38,
      "outputs": [
        {
          "output_type": "stream",
          "name": "stdout",
          "text": [
            "kTK!xvíjIGRKgúTsXtó:óií¿w¡QFGMJo;BfHóL p á¿sZWo.?aaúQh .Uíe.UíYKjFUtÑl¡vTX;NtÑGIlsDYspevpfnU\n"
          ]
        }
      ]
    },
    {
      "cell_type": "code",
      "source": [],
      "metadata": {
        "id": "OL6EekWAPPCk"
      },
      "execution_count": 19,
      "outputs": []
    },
    {
      "cell_type": "markdown",
      "source": [
        "### Ahora trabajémos en decifrarla.\n",
        "\n",
        "1.  Debemos encontrar la inversa de nuestra matriz llave.\n",
        "2.  Debemos aplicar el modulo de la longitud de la lista de caracteres a la inversa.\n",
        "3. Luego verificamos si tiene o no, decimales, y eso determinará que haremos para decifrar el mensaje.\n",
        "\n",
        "\n"
      ],
      "metadata": {
        "id": "PVIsoNr_U2H9"
      }
    },
    {
      "cell_type": "code",
      "source": [
        "# Recuerda que nuestra matriz codificadora era esta.\n",
        "matriz_sp"
      ],
      "metadata": {
        "colab": {
          "base_uri": "https://localhost:8080/",
          "height": 98
        },
        "id": "ptYTudirU4y0",
        "outputId": "7912ad6f-b476-430c-8bb4-d35a4b167408"
      },
      "execution_count": 20,
      "outputs": [
        {
          "output_type": "execute_result",
          "data": {
            "text/plain": [
              "Matrix([\n",
              "[5, 2, 0, 1],\n",
              "[2, 4, 7, 0],\n",
              "[5, 3, 3, 1],\n",
              "[1, 3, 6, 0]])"
            ],
            "text/latex": "$\\displaystyle \\left[\\begin{matrix}5 & 2 & 0 & 1\\\\2 & 4 & 7 & 0\\\\5 & 3 & 3 & 1\\\\1 & 3 & 6 & 0\\end{matrix}\\right]$"
          },
          "metadata": {},
          "execution_count": 20
        }
      ]
    },
    {
      "cell_type": "markdown",
      "source": [],
      "metadata": {
        "id": "Qs8fOvhy-vbW"
      }
    },
    {
      "cell_type": "code",
      "source": [
        "inversa = matriz_sp.inv()"
      ],
      "metadata": {
        "id": "PwVg4eBXYh_R"
      },
      "execution_count": 21,
      "outputs": []
    },
    {
      "cell_type": "code",
      "source": [
        "modulo_inversa = inversa % modulo\n",
        "\n",
        "modulo_inversa"
      ],
      "metadata": {
        "id": "l5-7klYrbFob",
        "colab": {
          "base_uri": "https://localhost:8080/",
          "height": 98
        },
        "outputId": "393e6f3d-0835-4bc3-e9de-c7efbd24317c"
      },
      "execution_count": 22,
      "outputs": [
        {
          "output_type": "execute_result",
          "data": {
            "text/plain": [
              "Matrix([\n",
              "[64,  3,  3, 62],\n",
              "[ 5, 64, 62,  6],\n",
              "[65,  1,  2, 65],\n",
              "[ 6, 58, 62, 13]])"
            ],
            "text/latex": "$\\displaystyle \\left[\\begin{matrix}64 & 3 & 3 & 62\\\\5 & 64 & 62 & 6\\\\65 & 1 & 2 & 65\\\\6 & 58 & 62 & 13\\end{matrix}\\right]$"
          },
          "metadata": {},
          "execution_count": 22
        }
      ]
    },
    {
      "cell_type": "markdown",
      "source": [
        "Mensaje sin que se le aplique el modulo n.\n",
        "\n"
      ],
      "metadata": {
        "id": "MknCVjNmwIlV"
      }
    },
    {
      "cell_type": "code",
      "source": [
        "decrypt_sin_modulo = np.dot(modulo_inversa, mensaje_encriptado_mod)\n",
        "\n",
        "sp.Matrix(decrypt_sin_modulo)"
      ],
      "metadata": {
        "id": "TIcgJ3kgb67Y",
        "colab": {
          "base_uri": "https://localhost:8080/",
          "height": 98
        },
        "outputId": "9c1cec09-df93-439d-f6ac-f34d09689771"
      },
      "execution_count": 23,
      "outputs": [
        {
          "output_type": "execute_result",
          "data": {
            "text/plain": [
              "Matrix([\n",
              "[5024, 5702, 3994, 5532, 4784, 7167, 4413, 5285, 1677, 1128, 1714, 3257, 5016, 4185, 2926, 6009, 4341, 5070, 6827, 6892, 5766, 4936, 4933],\n",
              "[6731, 7414, 8282, 3207, 2388, 4536, 2175, 3140, 6344, 7880, 1504, 5736, 2805, 7669, 2256, 7617, 4610, 4748, 6192, 4658, 4654, 4931, 2741],\n",
              "[5016, 5761, 3956, 5596, 4869, 7335, 4466, 5407, 1587,  965, 1733, 3262, 5139, 4078, 2978, 6018, 4382, 5083, 6885, 6959, 5807, 4993, 4991],\n",
              "[6680, 7602, 8232, 3310, 2576, 4989, 2249, 3444, 6204, 7550, 1572, 5820, 3111, 7411, 2385, 7629, 4676, 4663, 6266, 4662, 4664, 5090, 2805]])"
            ],
            "text/latex": "$\\displaystyle \\left[\\begin{array}{ccccccccccccccccccccccc}5024 & 5702 & 3994 & 5532 & 4784 & 7167 & 4413 & 5285 & 1677 & 1128 & 1714 & 3257 & 5016 & 4185 & 2926 & 6009 & 4341 & 5070 & 6827 & 6892 & 5766 & 4936 & 4933\\\\6731 & 7414 & 8282 & 3207 & 2388 & 4536 & 2175 & 3140 & 6344 & 7880 & 1504 & 5736 & 2805 & 7669 & 2256 & 7617 & 4610 & 4748 & 6192 & 4658 & 4654 & 4931 & 2741\\\\5016 & 5761 & 3956 & 5596 & 4869 & 7335 & 4466 & 5407 & 1587 & 965 & 1733 & 3262 & 5139 & 4078 & 2978 & 6018 & 4382 & 5083 & 6885 & 6959 & 5807 & 4993 & 4991\\\\6680 & 7602 & 8232 & 3310 & 2576 & 4989 & 2249 & 3444 & 6204 & 7550 & 1572 & 5820 & 3111 & 7411 & 2385 & 7629 & 4676 & 4663 & 6266 & 4662 & 4664 & 5090 & 2805\\end{array}\\right]$"
          },
          "metadata": {},
          "execution_count": 23
        }
      ]
    },
    {
      "cell_type": "code",
      "source": [
        "decrypt_con_modulo = sp.Matrix(np.dot(modulo_inversa, mensaje_encriptado_mod)%modulo)\n",
        "\n",
        "sp.Matrix(decrypt_con_modulo)"
      ],
      "metadata": {
        "id": "Mmt49Gq6A5Cd",
        "colab": {
          "base_uri": "https://localhost:8080/",
          "height": 98
        },
        "outputId": "f1307426-ac7c-4d3c-835c-5da50ecbd824"
      },
      "execution_count": 24,
      "outputs": [
        {
          "output_type": "execute_result",
          "data": {
            "text/plain": [
              "Matrix([\n",
              "[66,  7, 41, 38, 27, 65, 58, 59,  2, 56, 39, 41, 58, 31, 45, 46, 53, 45, 60, 58,  4, 45, 42],\n",
              "[31, 44, 41, 58, 43, 47, 31, 58, 46, 41, 30, 41, 58, 31, 45, 46, 54, 58, 28, 35, 31, 40, 61],\n",
              "[58, 66,  3, 35, 45, 32, 44, 47, 46, 27, 58, 46, 47, 58, 30, 55, 27, 58, 51, 58, 45, 35, 33],\n",
              "[47, 31, 58, 27, 30, 31, 38, 27, 40, 46, 31, 58, 29, 41, 40, 58, 53, 40, 35, 39, 41, 65, 58]])"
            ],
            "text/latex": "$\\displaystyle \\left[\\begin{array}{ccccccccccccccccccccccc}66 & 7 & 41 & 38 & 27 & 65 & 58 & 59 & 2 & 56 & 39 & 41 & 58 & 31 & 45 & 46 & 53 & 45 & 60 & 58 & 4 & 45 & 42\\\\31 & 44 & 41 & 58 & 43 & 47 & 31 & 58 & 46 & 41 & 30 & 41 & 58 & 31 & 45 & 46 & 54 & 58 & 28 & 35 & 31 & 40 & 61\\\\58 & 66 & 3 & 35 & 45 & 32 & 44 & 47 & 46 & 27 & 58 & 46 & 47 & 58 & 30 & 55 & 27 & 58 & 51 & 58 & 45 & 35 & 33\\\\47 & 31 & 58 & 27 & 30 & 31 & 38 & 27 & 40 & 46 & 31 & 58 & 29 & 41 & 40 & 58 & 53 & 40 & 35 & 39 & 41 & 65 & 58\\end{array}\\right]$"
          },
          "metadata": {},
          "execution_count": 24
        }
      ]
    },
    {
      "cell_type": "markdown",
      "source": [
        "Comparemos el mensaje vectorizado con el mensaje desencriptado."
      ],
      "metadata": {
        "id": "CAVkhtWQwvmI"
      }
    },
    {
      "cell_type": "code",
      "source": [
        "mensaje_vectorizado"
      ],
      "metadata": {
        "colab": {
          "base_uri": "https://localhost:8080/",
          "height": 98
        },
        "id": "dP5aaxNTw3YI",
        "outputId": "ea60858f-b042-43c6-ac7b-7d03eb015658"
      },
      "execution_count": 25,
      "outputs": [
        {
          "output_type": "execute_result",
          "data": {
            "text/plain": [
              "Matrix([\n",
              "[66,  7, 41, 38, 27, 65, 58, 59,  2, 56, 39, 41, 58, 31, 45, 46, 53, 45, 60, 58,  4, 45, 42],\n",
              "[31, 44, 41, 58, 43, 47, 31, 58, 46, 41, 30, 41, 58, 31, 45, 46, 54, 58, 28, 35, 31, 40, 61],\n",
              "[58, 66,  3, 35, 45, 32, 44, 47, 46, 27, 58, 46, 47, 58, 30, 55, 27, 58, 51, 58, 45, 35, 33],\n",
              "[47, 31, 58, 27, 30, 31, 38, 27, 40, 46, 31, 58, 29, 41, 40, 58, 53, 40, 35, 39, 41, 65, 58]])"
            ],
            "text/latex": "$\\displaystyle \\left[\\begin{array}{ccccccccccccccccccccccc}66 & 7 & 41 & 38 & 27 & 65 & 58 & 59 & 2 & 56 & 39 & 41 & 58 & 31 & 45 & 46 & 53 & 45 & 60 & 58 & 4 & 45 & 42\\\\31 & 44 & 41 & 58 & 43 & 47 & 31 & 58 & 46 & 41 & 30 & 41 & 58 & 31 & 45 & 46 & 54 & 58 & 28 & 35 & 31 & 40 & 61\\\\58 & 66 & 3 & 35 & 45 & 32 & 44 & 47 & 46 & 27 & 58 & 46 & 47 & 58 & 30 & 55 & 27 & 58 & 51 & 58 & 45 & 35 & 33\\\\47 & 31 & 58 & 27 & 30 & 31 & 38 & 27 & 40 & 46 & 31 & 58 & 29 & 41 & 40 & 58 & 53 & 40 & 35 & 39 & 41 & 65 & 58\\end{array}\\right]$"
          },
          "metadata": {},
          "execution_count": 25
        }
      ]
    },
    {
      "cell_type": "code",
      "source": [
        "decrypt_con_modulo"
      ],
      "metadata": {
        "colab": {
          "base_uri": "https://localhost:8080/",
          "height": 98
        },
        "id": "RWNH-ta9w6pw",
        "outputId": "aab8d7ac-922e-42ef-e8a5-46f385a28e56"
      },
      "execution_count": 26,
      "outputs": [
        {
          "output_type": "execute_result",
          "data": {
            "text/plain": [
              "Matrix([\n",
              "[66,  7, 41, 38, 27, 65, 58, 59,  2, 56, 39, 41, 58, 31, 45, 46, 53, 45, 60, 58,  4, 45, 42],\n",
              "[31, 44, 41, 58, 43, 47, 31, 58, 46, 41, 30, 41, 58, 31, 45, 46, 54, 58, 28, 35, 31, 40, 61],\n",
              "[58, 66,  3, 35, 45, 32, 44, 47, 46, 27, 58, 46, 47, 58, 30, 55, 27, 58, 51, 58, 45, 35, 33],\n",
              "[47, 31, 58, 27, 30, 31, 38, 27, 40, 46, 31, 58, 29, 41, 40, 58, 53, 40, 35, 39, 41, 65, 58]])"
            ],
            "text/latex": "$\\displaystyle \\left[\\begin{array}{ccccccccccccccccccccccc}66 & 7 & 41 & 38 & 27 & 65 & 58 & 59 & 2 & 56 & 39 & 41 & 58 & 31 & 45 & 46 & 53 & 45 & 60 & 58 & 4 & 45 & 42\\\\31 & 44 & 41 & 58 & 43 & 47 & 31 & 58 & 46 & 41 & 30 & 41 & 58 & 31 & 45 & 46 & 54 & 58 & 28 & 35 & 31 & 40 & 61\\\\58 & 66 & 3 & 35 & 45 & 32 & 44 & 47 & 46 & 27 & 58 & 46 & 47 & 58 & 30 & 55 & 27 & 58 & 51 & 58 & 45 & 35 & 33\\\\47 & 31 & 58 & 27 & 30 & 31 & 38 & 27 & 40 & 46 & 31 & 58 & 29 & 41 & 40 & 58 & 53 & 40 & 35 & 39 & 41 & 65 & 58\\end{array}\\right]$"
          },
          "metadata": {},
          "execution_count": 26
        }
      ]
    },
    {
      "cell_type": "markdown",
      "source": [
        "#### El mensaje desencriptado, es exactamente igual a el mensaje vectorizado??"
      ],
      "metadata": {
        "id": "6MNIT0PMx6CR"
      }
    },
    {
      "cell_type": "code",
      "source": [
        "# Aquí nos damos cuenta con un booleano\n",
        "decrypt_con_modulo == mensaje_vectorizado"
      ],
      "metadata": {
        "colab": {
          "base_uri": "https://localhost:8080/"
        },
        "id": "HdTQbO5Jw9Yl",
        "outputId": "7894fdd7-ee50-4ae4-e13c-7653c5aac1cd"
      },
      "execution_count": 27,
      "outputs": [
        {
          "output_type": "execute_result",
          "data": {
            "text/plain": [
              "True"
            ]
          },
          "metadata": {},
          "execution_count": 27
        }
      ]
    },
    {
      "cell_type": "code",
      "source": [
        "numpy_array = []\n",
        "for i in decrypt_con_modulo:\n",
        "  for key in indices_dict:\n",
        "    if i == indices_dict[key]:\n",
        "      numpy_array.append(key)\n",
        "\n",
        "numpy_array = np.array(numpy_array).reshape(matriz_sp.shape[0], -1)\n",
        "numpy_array"
      ],
      "metadata": {
        "colab": {
          "base_uri": "https://localhost:8080/"
        },
        "id": "jRWyabjC1CrO",
        "outputId": "7a1ec999-fe9d-4c83-9709-461d0263343e"
      },
      "execution_count": 28,
      "outputs": [
        {
          "output_type": "execute_result",
          "data": {
            "text/plain": [
              "array([['¡', 'H', 'o', 'l', 'a', '!', ' ', '¿', 'C', 'ó', 'm', 'o', ' ',\n",
              "        'e', 's', 't', 'á', 's', '?', ' ', 'E', 's', 'p'],\n",
              "       ['e', 'r', 'o', ' ', 'q', 'u', 'e', ' ', 't', 'o', 'd', 'o', ' ',\n",
              "        'e', 's', 't', 'é', ' ', 'b', 'i', 'e', 'n', '.'],\n",
              "       [' ', '¡', 'D', 'i', 's', 'f', 'r', 'u', 't', 'a', ' ', 't', 'u',\n",
              "        ' ', 'd', 'í', 'a', ' ', 'y', ' ', 's', 'i', 'g'],\n",
              "       ['u', 'e', ' ', 'a', 'd', 'e', 'l', 'a', 'n', 't', 'e', ' ', 'c',\n",
              "        'o', 'n', ' ', 'á', 'n', 'i', 'm', 'o', '!', ' ']], dtype='<U1')"
            ]
          },
          "metadata": {},
          "execution_count": 28
        }
      ]
    },
    {
      "cell_type": "markdown",
      "source": [
        "### Ahora mostremos el mensaje de forma alfabetica."
      ],
      "metadata": {
        "id": "Qs6eAMNJQv8s"
      }
    },
    {
      "cell_type": "code",
      "source": [
        "def mostrar_mensaje(mensaje_a_mostrar):\n",
        "  cadena_salida = [];\n",
        "  for decrypt in decrypt_con_modulo:\n",
        "    for key, value in indices_dict.items():\n",
        "      if decrypt == value:\n",
        "        cadena_salida.append(key);\n",
        "\n",
        "\n",
        "  return \"\".join(cadena_salida)\n",
        "\n",
        "\n",
        "cadena_salida = mostrar_mensaje(decrypt_con_modulo)\n",
        "print(cadena_salida)"
      ],
      "metadata": {
        "colab": {
          "base_uri": "https://localhost:8080/"
        },
        "id": "dhe8iO5VxqdA",
        "outputId": "a2c1c5de-252e-408e-9ca7-60e8c53ff264"
      },
      "execution_count": 43,
      "outputs": [
        {
          "output_type": "stream",
          "name": "stdout",
          "text": [
            "¡Hola! ¿Cómo estás? Espero que todo esté bien. ¡Disfruta tu día y sigue adelante con ánimo! \n"
          ]
        }
      ]
    },
    {
      "cell_type": "code",
      "source": [],
      "metadata": {
        "id": "B3fk1yiDyvkK"
      },
      "execution_count": 29,
      "outputs": []
    }
  ]
}